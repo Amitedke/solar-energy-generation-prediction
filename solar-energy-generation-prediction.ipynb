{
 "cells": [
  {
   "cell_type": "code",
   "execution_count": 1,
   "id": "ead05ac8",
   "metadata": {},
   "outputs": [],
   "source": [
    "import numpy as np\n",
    "import pandas as pd\n",
    "import matplotlib.pyplot as plt\n",
    "import seaborn as sns\n",
    "import warnings\n",
    "warnings.filterwarnings('ignore')\n",
    "from sklearn.preprocessing import StandardScaler\n",
    "from sklearn.model_selection import train_test_split\n",
    "from sklearn.multioutput import MultiOutputRegressor\n",
    "from sklearn.linear_model import Ridge,LinearRegression\n",
    "from sklearn.ensemble import RandomForestClassifier"
   ]
  },
  {
   "cell_type": "code",
   "execution_count": 2,
   "id": "0712560e",
   "metadata": {},
   "outputs": [
    {
     "data": {
      "text/html": [
       "<div>\n",
       "<style scoped>\n",
       "    .dataframe tbody tr th:only-of-type {\n",
       "        vertical-align: middle;\n",
       "    }\n",
       "\n",
       "    .dataframe tbody tr th {\n",
       "        vertical-align: top;\n",
       "    }\n",
       "\n",
       "    .dataframe thead th {\n",
       "        text-align: right;\n",
       "    }\n",
       "</style>\n",
       "<table border=\"1\" class=\"dataframe\">\n",
       "  <thead>\n",
       "    <tr style=\"text-align: right;\">\n",
       "      <th></th>\n",
       "      <th>Timestamp</th>\n",
       "      <th>Temperature</th>\n",
       "      <th>Dew Point</th>\n",
       "      <th>Surface Albedo</th>\n",
       "      <th>Pressure</th>\n",
       "      <th>Wind Direction</th>\n",
       "      <th>Wind Speed</th>\n",
       "      <th>Clearsky DHI</th>\n",
       "      <th>Clearsky DNI</th>\n",
       "      <th>Clearsky GHI</th>\n",
       "      <th>Fill Flag</th>\n",
       "      <th>Ozone</th>\n",
       "      <th>Cloud Type</th>\n",
       "      <th>Solar Zenith Angle</th>\n",
       "      <th>Precipitable Water</th>\n",
       "      <th>Relative Humidity</th>\n",
       "    </tr>\n",
       "  </thead>\n",
       "  <tbody>\n",
       "    <tr>\n",
       "      <th>0</th>\n",
       "      <td>2019-01-01 00:00:00</td>\n",
       "      <td>12.5</td>\n",
       "      <td>6.9</td>\n",
       "      <td>0.21</td>\n",
       "      <td>1005</td>\n",
       "      <td>121</td>\n",
       "      <td>1.0</td>\n",
       "      <td>0</td>\n",
       "      <td>0</td>\n",
       "      <td>0</td>\n",
       "      <td>0</td>\n",
       "      <td>0.258</td>\n",
       "      <td>1</td>\n",
       "      <td>173.92</td>\n",
       "      <td>1.4</td>\n",
       "      <td>68.82</td>\n",
       "    </tr>\n",
       "    <tr>\n",
       "      <th>1</th>\n",
       "      <td>2019-01-01 00:10:00</td>\n",
       "      <td>12.3</td>\n",
       "      <td>6.9</td>\n",
       "      <td>0.21</td>\n",
       "      <td>1005</td>\n",
       "      <td>122</td>\n",
       "      <td>1.0</td>\n",
       "      <td>0</td>\n",
       "      <td>0</td>\n",
       "      <td>0</td>\n",
       "      <td>0</td>\n",
       "      <td>0.258</td>\n",
       "      <td>1</td>\n",
       "      <td>171.79</td>\n",
       "      <td>1.3</td>\n",
       "      <td>69.73</td>\n",
       "    </tr>\n",
       "    <tr>\n",
       "      <th>2</th>\n",
       "      <td>2019-01-01 00:20:00</td>\n",
       "      <td>12.1</td>\n",
       "      <td>6.9</td>\n",
       "      <td>0.21</td>\n",
       "      <td>1005</td>\n",
       "      <td>124</td>\n",
       "      <td>1.0</td>\n",
       "      <td>0</td>\n",
       "      <td>0</td>\n",
       "      <td>0</td>\n",
       "      <td>0</td>\n",
       "      <td>0.258</td>\n",
       "      <td>1</td>\n",
       "      <td>169.59</td>\n",
       "      <td>1.3</td>\n",
       "      <td>70.65</td>\n",
       "    </tr>\n",
       "    <tr>\n",
       "      <th>3</th>\n",
       "      <td>2019-01-01 00:30:00</td>\n",
       "      <td>12.0</td>\n",
       "      <td>6.9</td>\n",
       "      <td>0.21</td>\n",
       "      <td>1005</td>\n",
       "      <td>125</td>\n",
       "      <td>1.0</td>\n",
       "      <td>0</td>\n",
       "      <td>0</td>\n",
       "      <td>0</td>\n",
       "      <td>0</td>\n",
       "      <td>0.258</td>\n",
       "      <td>1</td>\n",
       "      <td>167.37</td>\n",
       "      <td>1.3</td>\n",
       "      <td>71.11</td>\n",
       "    </tr>\n",
       "    <tr>\n",
       "      <th>4</th>\n",
       "      <td>2019-01-01 00:40:00</td>\n",
       "      <td>11.8</td>\n",
       "      <td>6.9</td>\n",
       "      <td>0.21</td>\n",
       "      <td>1005</td>\n",
       "      <td>126</td>\n",
       "      <td>1.0</td>\n",
       "      <td>0</td>\n",
       "      <td>0</td>\n",
       "      <td>0</td>\n",
       "      <td>0</td>\n",
       "      <td>0.258</td>\n",
       "      <td>1</td>\n",
       "      <td>165.13</td>\n",
       "      <td>1.3</td>\n",
       "      <td>71.91</td>\n",
       "    </tr>\n",
       "  </tbody>\n",
       "</table>\n",
       "</div>"
      ],
      "text/plain": [
       "             Timestamp  Temperature  Dew Point  Surface Albedo  Pressure   \n",
       "0  2019-01-01 00:00:00         12.5        6.9            0.21      1005  \\\n",
       "1  2019-01-01 00:10:00         12.3        6.9            0.21      1005   \n",
       "2  2019-01-01 00:20:00         12.1        6.9            0.21      1005   \n",
       "3  2019-01-01 00:30:00         12.0        6.9            0.21      1005   \n",
       "4  2019-01-01 00:40:00         11.8        6.9            0.21      1005   \n",
       "\n",
       "   Wind Direction  Wind Speed  Clearsky DHI  Clearsky DNI  Clearsky GHI   \n",
       "0             121         1.0             0             0             0  \\\n",
       "1             122         1.0             0             0             0   \n",
       "2             124         1.0             0             0             0   \n",
       "3             125         1.0             0             0             0   \n",
       "4             126         1.0             0             0             0   \n",
       "\n",
       "   Fill Flag  Ozone  Cloud Type  Solar Zenith Angle  Precipitable Water   \n",
       "0          0  0.258           1              173.92                 1.4  \\\n",
       "1          0  0.258           1              171.79                 1.3   \n",
       "2          0  0.258           1              169.59                 1.3   \n",
       "3          0  0.258           1              167.37                 1.3   \n",
       "4          0  0.258           1              165.13                 1.3   \n",
       "\n",
       "   Relative Humidity  \n",
       "0              68.82  \n",
       "1              69.73  \n",
       "2              70.65  \n",
       "3              71.11  \n",
       "4              71.91  "
      ]
     },
     "execution_count": 2,
     "metadata": {},
     "output_type": "execute_result"
    }
   ],
   "source": [
    "data=pd.read_csv(\"D:/DATA_SCIENCE/Extra_Projects/solar-energy-generation-prediction/train.csv\")\n",
    "data.head()"
   ]
  },
  {
   "cell_type": "code",
   "execution_count": 3,
   "id": "1a358ba3",
   "metadata": {},
   "outputs": [
    {
     "data": {
      "text/plain": [
       "(210240, 16)"
      ]
     },
     "execution_count": 3,
     "metadata": {},
     "output_type": "execute_result"
    }
   ],
   "source": [
    "data.shape"
   ]
  },
  {
   "cell_type": "code",
   "execution_count": 4,
   "id": "d7b01fff",
   "metadata": {},
   "outputs": [
    {
     "data": {
      "text/plain": [
       "Timestamp             0\n",
       "Temperature           0\n",
       "Dew Point             0\n",
       "Surface Albedo        0\n",
       "Pressure              0\n",
       "Wind Direction        0\n",
       "Wind Speed            0\n",
       "Clearsky DHI          0\n",
       "Clearsky DNI          0\n",
       "Clearsky GHI          0\n",
       "Fill Flag             0\n",
       "Ozone                 0\n",
       "Cloud Type            0\n",
       "Solar Zenith Angle    0\n",
       "Precipitable Water    0\n",
       "Relative Humidity     0\n",
       "dtype: int64"
      ]
     },
     "execution_count": 4,
     "metadata": {},
     "output_type": "execute_result"
    }
   ],
   "source": [
    "data.isna().sum()"
   ]
  },
  {
   "cell_type": "code",
   "execution_count": 5,
   "id": "8639b088",
   "metadata": {},
   "outputs": [],
   "source": [
    "data['Timestamp']=pd.to_datetime(data['Timestamp'])"
   ]
  },
  {
   "cell_type": "code",
   "execution_count": 16,
   "id": "66e316a7",
   "metadata": {},
   "outputs": [],
   "source": [
    " data['Month']=data.Timestamp.dt.month\n",
    "# data['day']=data.Timestamp.dt.day\n",
    "# data['week']=data.Timestamp.dt.week"
   ]
  },
  {
   "cell_type": "code",
   "execution_count": 27,
   "id": "27025f78",
   "metadata": {},
   "outputs": [
    {
     "data": {
      "text/plain": [
       "Timestamp             datetime64[ns]\n",
       "Temperature                  float64\n",
       "Dew Point                    float64\n",
       "Surface Albedo               float64\n",
       "Pressure                       int64\n",
       "Wind Direction                 int64\n",
       "Wind Speed                   float64\n",
       "Clearsky DHI                   int64\n",
       "Clearsky DNI                   int64\n",
       "Clearsky GHI                   int64\n",
       "Fill Flag                      int64\n",
       "Ozone                        float64\n",
       "Cloud Type                     int64\n",
       "Solar Zenith Angle           float64\n",
       "Precipitable Water           float64\n",
       "Relative Humidity            float64\n",
       "Month                          int32\n",
       "dtype: object"
      ]
     },
     "execution_count": 27,
     "metadata": {},
     "output_type": "execute_result"
    }
   ],
   "source": [
    "data.dtypes"
   ]
  },
  {
   "cell_type": "code",
   "execution_count": 17,
   "id": "265cb4b7",
   "metadata": {},
   "outputs": [],
   "source": [
    "x=data.drop(['Clearsky DHI','Clearsky DNI','Clearsky GHI','Timestamp'],axis=1)\n",
    "y=data[['Clearsky DHI','Clearsky DNI','Clearsky GHI']]"
   ]
  },
  {
   "cell_type": "code",
   "execution_count": 18,
   "id": "8d950f03",
   "metadata": {},
   "outputs": [
    {
     "data": {
      "text/html": [
       "<div>\n",
       "<style scoped>\n",
       "    .dataframe tbody tr th:only-of-type {\n",
       "        vertical-align: middle;\n",
       "    }\n",
       "\n",
       "    .dataframe tbody tr th {\n",
       "        vertical-align: top;\n",
       "    }\n",
       "\n",
       "    .dataframe thead th {\n",
       "        text-align: right;\n",
       "    }\n",
       "</style>\n",
       "<table border=\"1\" class=\"dataframe\">\n",
       "  <thead>\n",
       "    <tr style=\"text-align: right;\">\n",
       "      <th></th>\n",
       "      <th>Temperature</th>\n",
       "      <th>Dew Point</th>\n",
       "      <th>Surface Albedo</th>\n",
       "      <th>Pressure</th>\n",
       "      <th>Wind Direction</th>\n",
       "      <th>Wind Speed</th>\n",
       "      <th>Fill Flag</th>\n",
       "      <th>Ozone</th>\n",
       "      <th>Cloud Type</th>\n",
       "      <th>Solar Zenith Angle</th>\n",
       "      <th>Precipitable Water</th>\n",
       "      <th>Relative Humidity</th>\n",
       "      <th>Month</th>\n",
       "    </tr>\n",
       "  </thead>\n",
       "  <tbody>\n",
       "    <tr>\n",
       "      <th>0</th>\n",
       "      <td>12.5</td>\n",
       "      <td>6.9</td>\n",
       "      <td>0.21</td>\n",
       "      <td>1005</td>\n",
       "      <td>121</td>\n",
       "      <td>1.0</td>\n",
       "      <td>0</td>\n",
       "      <td>0.258</td>\n",
       "      <td>1</td>\n",
       "      <td>173.92</td>\n",
       "      <td>1.4</td>\n",
       "      <td>68.82</td>\n",
       "      <td>1</td>\n",
       "    </tr>\n",
       "    <tr>\n",
       "      <th>1</th>\n",
       "      <td>12.3</td>\n",
       "      <td>6.9</td>\n",
       "      <td>0.21</td>\n",
       "      <td>1005</td>\n",
       "      <td>122</td>\n",
       "      <td>1.0</td>\n",
       "      <td>0</td>\n",
       "      <td>0.258</td>\n",
       "      <td>1</td>\n",
       "      <td>171.79</td>\n",
       "      <td>1.3</td>\n",
       "      <td>69.73</td>\n",
       "      <td>1</td>\n",
       "    </tr>\n",
       "    <tr>\n",
       "      <th>2</th>\n",
       "      <td>12.1</td>\n",
       "      <td>6.9</td>\n",
       "      <td>0.21</td>\n",
       "      <td>1005</td>\n",
       "      <td>124</td>\n",
       "      <td>1.0</td>\n",
       "      <td>0</td>\n",
       "      <td>0.258</td>\n",
       "      <td>1</td>\n",
       "      <td>169.59</td>\n",
       "      <td>1.3</td>\n",
       "      <td>70.65</td>\n",
       "      <td>1</td>\n",
       "    </tr>\n",
       "    <tr>\n",
       "      <th>3</th>\n",
       "      <td>12.0</td>\n",
       "      <td>6.9</td>\n",
       "      <td>0.21</td>\n",
       "      <td>1005</td>\n",
       "      <td>125</td>\n",
       "      <td>1.0</td>\n",
       "      <td>0</td>\n",
       "      <td>0.258</td>\n",
       "      <td>1</td>\n",
       "      <td>167.37</td>\n",
       "      <td>1.3</td>\n",
       "      <td>71.11</td>\n",
       "      <td>1</td>\n",
       "    </tr>\n",
       "    <tr>\n",
       "      <th>4</th>\n",
       "      <td>11.8</td>\n",
       "      <td>6.9</td>\n",
       "      <td>0.21</td>\n",
       "      <td>1005</td>\n",
       "      <td>126</td>\n",
       "      <td>1.0</td>\n",
       "      <td>0</td>\n",
       "      <td>0.258</td>\n",
       "      <td>1</td>\n",
       "      <td>165.13</td>\n",
       "      <td>1.3</td>\n",
       "      <td>71.91</td>\n",
       "      <td>1</td>\n",
       "    </tr>\n",
       "  </tbody>\n",
       "</table>\n",
       "</div>"
      ],
      "text/plain": [
       "   Temperature  Dew Point  Surface Albedo  Pressure  Wind Direction   \n",
       "0         12.5        6.9            0.21      1005             121  \\\n",
       "1         12.3        6.9            0.21      1005             122   \n",
       "2         12.1        6.9            0.21      1005             124   \n",
       "3         12.0        6.9            0.21      1005             125   \n",
       "4         11.8        6.9            0.21      1005             126   \n",
       "\n",
       "   Wind Speed  Fill Flag  Ozone  Cloud Type  Solar Zenith Angle   \n",
       "0         1.0          0  0.258           1              173.92  \\\n",
       "1         1.0          0  0.258           1              171.79   \n",
       "2         1.0          0  0.258           1              169.59   \n",
       "3         1.0          0  0.258           1              167.37   \n",
       "4         1.0          0  0.258           1              165.13   \n",
       "\n",
       "   Precipitable Water  Relative Humidity  Month  \n",
       "0                 1.4              68.82      1  \n",
       "1                 1.3              69.73      1  \n",
       "2                 1.3              70.65      1  \n",
       "3                 1.3              71.11      1  \n",
       "4                 1.3              71.91      1  "
      ]
     },
     "execution_count": 18,
     "metadata": {},
     "output_type": "execute_result"
    }
   ],
   "source": [
    "x.head()"
   ]
  },
  {
   "cell_type": "code",
   "execution_count": 19,
   "id": "a5d6188e",
   "metadata": {},
   "outputs": [
    {
     "data": {
      "text/html": [
       "<div>\n",
       "<style scoped>\n",
       "    .dataframe tbody tr th:only-of-type {\n",
       "        vertical-align: middle;\n",
       "    }\n",
       "\n",
       "    .dataframe tbody tr th {\n",
       "        vertical-align: top;\n",
       "    }\n",
       "\n",
       "    .dataframe thead th {\n",
       "        text-align: right;\n",
       "    }\n",
       "</style>\n",
       "<table border=\"1\" class=\"dataframe\">\n",
       "  <thead>\n",
       "    <tr style=\"text-align: right;\">\n",
       "      <th></th>\n",
       "      <th>Clearsky DHI</th>\n",
       "      <th>Clearsky DNI</th>\n",
       "      <th>Clearsky GHI</th>\n",
       "    </tr>\n",
       "  </thead>\n",
       "  <tbody>\n",
       "    <tr>\n",
       "      <th>0</th>\n",
       "      <td>0</td>\n",
       "      <td>0</td>\n",
       "      <td>0</td>\n",
       "    </tr>\n",
       "    <tr>\n",
       "      <th>1</th>\n",
       "      <td>0</td>\n",
       "      <td>0</td>\n",
       "      <td>0</td>\n",
       "    </tr>\n",
       "    <tr>\n",
       "      <th>2</th>\n",
       "      <td>0</td>\n",
       "      <td>0</td>\n",
       "      <td>0</td>\n",
       "    </tr>\n",
       "    <tr>\n",
       "      <th>3</th>\n",
       "      <td>0</td>\n",
       "      <td>0</td>\n",
       "      <td>0</td>\n",
       "    </tr>\n",
       "    <tr>\n",
       "      <th>4</th>\n",
       "      <td>0</td>\n",
       "      <td>0</td>\n",
       "      <td>0</td>\n",
       "    </tr>\n",
       "  </tbody>\n",
       "</table>\n",
       "</div>"
      ],
      "text/plain": [
       "   Clearsky DHI  Clearsky DNI  Clearsky GHI\n",
       "0             0             0             0\n",
       "1             0             0             0\n",
       "2             0             0             0\n",
       "3             0             0             0\n",
       "4             0             0             0"
      ]
     },
     "execution_count": 19,
     "metadata": {},
     "output_type": "execute_result"
    }
   ],
   "source": [
    "y.head()"
   ]
  },
  {
   "cell_type": "code",
   "execution_count": 33,
   "id": "2dd7ed5b",
   "metadata": {},
   "outputs": [],
   "source": [
    "trainx,testx,trainy,testy=train_test_split(x,y,test_size=0.2,random_state=42)"
   ]
  },
  {
   "cell_type": "code",
   "execution_count": 34,
   "id": "55898f55",
   "metadata": {},
   "outputs": [],
   "source": [
    "from sklearn.pipeline import Pipeline"
   ]
  },
  {
   "cell_type": "code",
   "execution_count": 35,
   "id": "7a1df52f",
   "metadata": {},
   "outputs": [],
   "source": [
    "num_pipline=Pipeline(steps=[('scaling',StandardScaler())])"
   ]
  },
  {
   "cell_type": "code",
   "execution_count": 36,
   "id": "0b1c8517",
   "metadata": {},
   "outputs": [],
   "source": [
    "trainx=num_pipline.fit_transform(trainx)\n",
    "testx=num_pipline.fit_transform(testx)"
   ]
  },
  {
   "cell_type": "code",
   "execution_count": 37,
   "id": "bfae62f3",
   "metadata": {},
   "outputs": [
    {
     "data": {
      "text/plain": [
       "array([[ 0.27821649,  1.33544651,  1.35769684, ...,  1.60254778,\n",
       "         1.19093247,  0.13797443],\n",
       "       [-1.09681905, -0.82461795, -0.55637259, ..., -0.78515792,\n",
       "        -0.3101816 , -1.02165405],\n",
       "       [ 0.27821649, -0.78552176,  1.35769684, ..., -0.51985729,\n",
       "        -1.05013422, -0.15193269],\n",
       "       ...,\n",
       "       [ 0.23199681,  1.13019152,  1.35769684, ...,  1.20459683,\n",
       "         0.89703864,  0.13797443],\n",
       "       [-0.43818858,  0.59261891, -0.55637259, ..., -0.16612311,\n",
       "         0.91723753,  1.00769579],\n",
       "       [ 0.49775998, -0.35546368,  0.87917948, ..., -0.43142374,\n",
       "        -0.8912363 , -0.73174693]])"
      ]
     },
     "execution_count": 37,
     "metadata": {},
     "output_type": "execute_result"
    }
   ],
   "source": [
    "sc=StandardScaler()\n",
    "# trainx=sc.fit_transform(trainx)\n",
    "# testx=sc.fit_transform(testx)\n",
    "trainx"
   ]
  },
  {
   "cell_type": "code",
   "execution_count": 38,
   "id": "e0424001",
   "metadata": {},
   "outputs": [
    {
     "data": {
      "text/plain": [
       "MultiOutputRegressor(estimator=LinearRegression())"
      ]
     },
     "execution_count": 38,
     "metadata": {},
     "output_type": "execute_result"
    }
   ],
   "source": [
    "reg=MultiOutputRegressor(LinearRegression()).fit(trainx,trainy)\n",
    "reg"
   ]
  },
  {
   "cell_type": "code",
   "execution_count": 39,
   "id": "a4e725d5",
   "metadata": {},
   "outputs": [
    {
     "data": {
      "text/plain": [
       "array([[  33.38400515,   80.8040112 ,  100.66916882],\n",
       "       [  56.72976229,   78.17284505,   59.67088062],\n",
       "       [   8.1648284 , -107.62741491,  -56.67551579],\n",
       "       ...,\n",
       "       [  63.27771694,  180.21248604,  174.49485607],\n",
       "       [ 245.31352998,  597.55455505,  673.74099538],\n",
       "       [ 248.05453953,  606.20015835,  674.76715142]])"
      ]
     },
     "execution_count": 39,
     "metadata": {},
     "output_type": "execute_result"
    }
   ],
   "source": [
    "pred=reg.predict(testx)\n",
    "pred"
   ]
  },
  {
   "cell_type": "code",
   "execution_count": 40,
   "id": "021155c8",
   "metadata": {},
   "outputs": [],
   "source": [
    "from sklearn.metrics import r2_score,mean_absolute_error,mean_squared_error"
   ]
  },
  {
   "cell_type": "code",
   "execution_count": 41,
   "id": "f092998a",
   "metadata": {},
   "outputs": [
    {
     "name": "stdout",
     "output_type": "stream",
     "text": [
      "r2_score 0.8020787365140505\n",
      "mean_absolute_error 85.95727298241138\n",
      "mean_squared_error 12177.473613826844\n"
     ]
    }
   ],
   "source": [
    "print('r2_score',r2_score(testy,pred))\n",
    "print('mean_absolute_error',mean_absolute_error(testy,pred))\n",
    "print('mean_squared_error',mean_squared_error(testy,pred))"
   ]
  },
  {
   "cell_type": "code",
   "execution_count": 1,
   "id": "a6eb2757",
   "metadata": {},
   "outputs": [],
   "source": [
    "from renew.logger import logging"
   ]
  },
  {
   "cell_type": "code",
   "execution_count": 2,
   "id": "6fae207a",
   "metadata": {},
   "outputs": [],
   "source": [
    "from renew.utlis.main_utils import load_numpy_array_data,save_object,load_object\n"
   ]
  },
  {
   "cell_type": "code",
   "execution_count": 1,
   "id": "e072541d",
   "metadata": {},
   "outputs": [
    {
     "ename": "NameError",
     "evalue": "name 'load_numpy_array_data' is not defined",
     "output_type": "error",
     "traceback": [
      "\u001b[1;31m---------------------------------------------------------------------------\u001b[0m",
      "\u001b[1;31mNameError\u001b[0m                                 Traceback (most recent call last)",
      "\u001b[1;32m~\\AppData\\Local\\Temp\\ipykernel_10828\\4109437763.py\u001b[0m in \u001b[0;36m<module>\u001b[1;34m\u001b[0m\n\u001b[1;32m----> 1\u001b[1;33m \u001b[0ma\u001b[0m \u001b[1;33m=\u001b[0m \u001b[0mload_numpy_array_data\u001b[0m\u001b[1;33m(\u001b[0m\u001b[0mfile_path\u001b[0m\u001b[1;33m=\u001b[0m\u001b[1;34m\"C:\\Amit\\Data science\\Projects\\solar-energy-generation-prediction\\artifact\\04_30_2023_21_31_59\\data_transformation\\transformed\\train.npy\"\u001b[0m\u001b[1;33m)\u001b[0m\u001b[1;33m\u001b[0m\u001b[1;33m\u001b[0m\u001b[0m\n\u001b[0m",
      "\u001b[1;31mNameError\u001b[0m: name 'load_numpy_array_data' is not defined"
     ]
    }
   ],
   "source": [
    "a = load_numpy_array_data(file_path=\"C:\\Amit\\Data science\\Projects\\solar-energy-generation-prediction\\artifact\\04_30_2023_21_31_59\\data_transformation\\transformed\\train.npy\")"
   ]
  },
  {
   "attachments": {},
   "cell_type": "markdown",
   "id": "93c3cb86",
   "metadata": {},
   "source": []
  },
  {
   "cell_type": "code",
   "execution_count": 2,
   "id": "abbdfe9a",
   "metadata": {},
   "outputs": [],
   "source": [
    "from renew.utlis.main_utils import load_object"
   ]
  },
  {
   "cell_type": "code",
   "execution_count": 22,
   "id": "360ed6f9",
   "metadata": {},
   "outputs": [
    {
     "name": "stderr",
     "output_type": "stream",
     "text": [
      "c:\\Users\\Admin\\anaconda3\\lib\\site-packages\\sklearn\\base.py:288: UserWarning: Trying to unpickle estimator DecisionTreeRegressor from version 1.2.2 when using version 1.2.0. This might lead to breaking code or invalid results. Use at your own risk. For more info please refer to:\n",
      "https://scikit-learn.org/stable/model_persistence.html#security-maintainability-limitations\n",
      "  warnings.warn(\n",
      "c:\\Users\\Admin\\anaconda3\\lib\\site-packages\\sklearn\\base.py:288: UserWarning: Trying to unpickle estimator RandomForestRegressor from version 1.2.2 when using version 1.2.0. This might lead to breaking code or invalid results. Use at your own risk. For more info please refer to:\n",
      "https://scikit-learn.org/stable/model_persistence.html#security-maintainability-limitations\n",
      "  warnings.warn(\n",
      "c:\\Users\\Admin\\anaconda3\\lib\\site-packages\\sklearn\\base.py:288: UserWarning: Trying to unpickle estimator MultiOutputRegressor from version 1.2.2 when using version 1.2.0. This might lead to breaking code or invalid results. Use at your own risk. For more info please refer to:\n",
      "https://scikit-learn.org/stable/model_persistence.html#security-maintainability-limitations\n",
      "  warnings.warn(\n"
     ]
    }
   ],
   "source": [
    "a = load_object(file_path=\"C://Amit//Data science//Projects//solar-energy-generation-prediction/artifact//05_06_2023_22_14_36//model_trainer/trained_model/model.pkl\")"
   ]
  },
  {
   "cell_type": "code",
   "execution_count": 23,
   "id": "0a388e6e",
   "metadata": {},
   "outputs": [],
   "source": [
    "import pandas as pd"
   ]
  },
  {
   "cell_type": "code",
   "execution_count": 24,
   "id": "748008e3",
   "metadata": {},
   "outputs": [],
   "source": [
    "df = pd.read_csv(\"C:/Amit/Data science/Projects/solar-energy-generation-prediction/artifact/05_06_2023_22_14_36/data_ingestion/ingested/train.csv\")"
   ]
  },
  {
   "cell_type": "code",
   "execution_count": 25,
   "id": "529bc16c",
   "metadata": {},
   "outputs": [],
   "source": [
    "from renew.constant.training_pipeline import TARGET_COLUMN\n",
    "df = df.drop(TARGET_COLUMN,axis=1)"
   ]
  },
  {
   "cell_type": "code",
   "execution_count": 26,
   "id": "e186880d",
   "metadata": {},
   "outputs": [
    {
     "ename": "TypeError",
     "evalue": "'NoneType' object is not callable",
     "output_type": "error",
     "traceback": [
      "\u001b[1;31m---------------------------------------------------------------------------\u001b[0m",
      "\u001b[1;31mTypeError\u001b[0m                                 Traceback (most recent call last)",
      "\u001b[1;32m~\\AppData\\Local\\Temp\\ipykernel_10828\\2390578209.py\u001b[0m in \u001b[0;36m<module>\u001b[1;34m\u001b[0m\n\u001b[1;32m----> 1\u001b[1;33m \u001b[0my\u001b[0m \u001b[1;33m=\u001b[0m \u001b[0ma\u001b[0m\u001b[1;33m.\u001b[0m\u001b[0mpredict\u001b[0m\u001b[1;33m(\u001b[0m\u001b[0mdf\u001b[0m\u001b[1;33m)\u001b[0m\u001b[1;33m\u001b[0m\u001b[1;33m\u001b[0m\u001b[0m\n\u001b[0m",
      "\u001b[1;31mTypeError\u001b[0m: 'NoneType' object is not callable"
     ]
    }
   ],
   "source": [
    "y = a.predict(df)"
   ]
  },
  {
   "cell_type": "code",
   "execution_count": 27,
   "id": "d5da2f68",
   "metadata": {},
   "outputs": [],
   "source": [
    "import pickle\n",
    "import os"
   ]
  },
  {
   "cell_type": "code",
   "execution_count": 28,
   "metadata": {},
   "outputs": [
    {
     "ename": "TypeError",
     "evalue": "expected str, bytes or os.PathLike object, not RenewModel",
     "output_type": "error",
     "traceback": [
      "\u001b[1;31m---------------------------------------------------------------------------\u001b[0m",
      "\u001b[1;31mTypeError\u001b[0m                                 Traceback (most recent call last)",
      "\u001b[1;32m~\\AppData\\Local\\Temp\\ipykernel_10828\\390880929.py\u001b[0m in \u001b[0;36m<module>\u001b[1;34m\u001b[0m\n\u001b[1;32m----> 1\u001b[1;33m \u001b[1;32mwith\u001b[0m \u001b[0mopen\u001b[0m\u001b[1;33m(\u001b[0m\u001b[0mos\u001b[0m\u001b[1;33m.\u001b[0m\u001b[0mpath\u001b[0m\u001b[1;33m.\u001b[0m\u001b[0mjoin\u001b[0m\u001b[1;33m(\u001b[0m\u001b[0ma\u001b[0m\u001b[1;33m,\u001b[0m \u001b[1;34m'model.pkl'\u001b[0m\u001b[1;33m)\u001b[0m\u001b[1;33m,\u001b[0m \u001b[1;34m'rb'\u001b[0m\u001b[1;33m)\u001b[0m \u001b[1;32mas\u001b[0m \u001b[0mf\u001b[0m\u001b[1;33m:\u001b[0m\u001b[1;33m\u001b[0m\u001b[1;33m\u001b[0m\u001b[0m\n\u001b[0m\u001b[0;32m      2\u001b[0m     \u001b[0mmodel\u001b[0m \u001b[1;33m=\u001b[0m \u001b[0mpickle\u001b[0m\u001b[1;33m.\u001b[0m\u001b[0mload\u001b[0m\u001b[1;33m(\u001b[0m\u001b[0mf\u001b[0m\u001b[1;33m)\u001b[0m\u001b[1;33m\u001b[0m\u001b[1;33m\u001b[0m\u001b[0m\n",
      "\u001b[1;32mc:\\Users\\Admin\\anaconda3\\lib\\ntpath.py\u001b[0m in \u001b[0;36mjoin\u001b[1;34m(path, *paths)\u001b[0m\n\u001b[0;32m     76\u001b[0m \u001b[1;31m# Join two (or more) paths.\u001b[0m\u001b[1;33m\u001b[0m\u001b[1;33m\u001b[0m\u001b[0m\n\u001b[0;32m     77\u001b[0m \u001b[1;32mdef\u001b[0m \u001b[0mjoin\u001b[0m\u001b[1;33m(\u001b[0m\u001b[0mpath\u001b[0m\u001b[1;33m,\u001b[0m \u001b[1;33m*\u001b[0m\u001b[0mpaths\u001b[0m\u001b[1;33m)\u001b[0m\u001b[1;33m:\u001b[0m\u001b[1;33m\u001b[0m\u001b[1;33m\u001b[0m\u001b[0m\n\u001b[1;32m---> 78\u001b[1;33m     \u001b[0mpath\u001b[0m \u001b[1;33m=\u001b[0m \u001b[0mos\u001b[0m\u001b[1;33m.\u001b[0m\u001b[0mfspath\u001b[0m\u001b[1;33m(\u001b[0m\u001b[0mpath\u001b[0m\u001b[1;33m)\u001b[0m\u001b[1;33m\u001b[0m\u001b[1;33m\u001b[0m\u001b[0m\n\u001b[0m\u001b[0;32m     79\u001b[0m     \u001b[1;32mif\u001b[0m \u001b[0misinstance\u001b[0m\u001b[1;33m(\u001b[0m\u001b[0mpath\u001b[0m\u001b[1;33m,\u001b[0m \u001b[0mbytes\u001b[0m\u001b[1;33m)\u001b[0m\u001b[1;33m:\u001b[0m\u001b[1;33m\u001b[0m\u001b[1;33m\u001b[0m\u001b[0m\n\u001b[0;32m     80\u001b[0m         \u001b[0msep\u001b[0m \u001b[1;33m=\u001b[0m \u001b[1;34mb'\\\\'\u001b[0m\u001b[1;33m\u001b[0m\u001b[1;33m\u001b[0m\u001b[0m\n",
      "\u001b[1;31mTypeError\u001b[0m: expected str, bytes or os.PathLike object, not RenewModel"
     ]
    }
   ],
   "source": [
    "with open(os.path.join(a, 'model.pkl'), 'rb') as f:\n",
    "    model = pickle.load(f)"
   ]
  },
  {
   "cell_type": "code",
   "execution_count": null,
   "id": "6ac099f6",
   "metadata": {},
   "outputs": [],
   "source": []
  }
 ],
 "metadata": {
  "kernelspec": {
   "display_name": "Python 3 (ipykernel)",
   "language": "python",
   "name": "python3"
  },
  "language_info": {
   "codemirror_mode": {
    "name": "ipython",
    "version": 3
   },
   "file_extension": ".py",
   "mimetype": "text/x-python",
   "name": "python",
   "nbconvert_exporter": "python",
   "pygments_lexer": "ipython3",
   "version": "3.9.13"
  }
 },
 "nbformat": 4,
 "nbformat_minor": 5
}
